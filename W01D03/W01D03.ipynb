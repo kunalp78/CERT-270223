{
 "cells": [
  {
   "cell_type": "code",
   "execution_count": null,
   "id": "2fbcb4fd",
   "metadata": {},
   "outputs": [],
   "source": [
    "book_ticket(\"A1\",\"A2\",\"A3\")\n",
    "book_ticket(\"A4\",\"A5\")"
   ]
  },
  {
   "cell_type": "code",
   "execution_count": 2,
   "id": "556fc701",
   "metadata": {},
   "outputs": [
    {
     "name": "stdout",
     "output_type": "stream",
     "text": [
      "(1, 2, 3)\n",
      "2\n",
      "(1, 2, 3, 5, 8)\n",
      "2\n",
      "8\n"
     ]
    }
   ],
   "source": [
    "def func(*arg):\n",
    "    print(arg)\n",
    "    for i in arg:\n",
    "        if i%2==0:\n",
    "            print(i)\n",
    "\n",
    "func(1,2,3)\n",
    "func(1,2,3,5,8)"
   ]
  },
  {
   "cell_type": "code",
   "execution_count": 4,
   "id": "52e710ef",
   "metadata": {},
   "outputs": [],
   "source": [
    "def book_ticket(movie_name, user_name, *no_of_seats):\n",
    "    total_seat_av = 25\n",
    "    if len(no_of_seats)>total_seat_av:\n",
    "        print(\"BOOH go away no ticket available!!\")\n",
    "    else:\n",
    "        print(\"Ticket Booked\")"
   ]
  },
  {
   "cell_type": "code",
   "execution_count": 5,
   "id": "4755687b",
   "metadata": {},
   "outputs": [
    {
     "name": "stdout",
     "output_type": "stream",
     "text": [
      "Ticket Booked\n"
     ]
    }
   ],
   "source": [
    "book_ticket(\"Avengers\", \"Praveen\", \"A1\",\"A2\",\"A3\")"
   ]
  },
  {
   "cell_type": "code",
   "execution_count": 6,
   "id": "544745a4",
   "metadata": {},
   "outputs": [],
   "source": [
    "# A1 B1 C1 D1 E1\n",
    "# A2 B2 C2 D2 E2\n",
    "# A3 B3 C3 D3 E3\n",
    "# A4 B4 C4 D4 E4\n",
    "# A5 B5 C5 D5 E5\n",
    "\n",
    "booked_seat = [\"D1\", \"E1\", \"B3\"]\n",
    "# A1 B1 C1 B  B\n",
    "# A2 B2 C2 D2 E2\n",
    "# A3 B  C3 D3 E3\n",
    "# A4 B4 C4 D4 E4\n",
    "# A5 B5 C5 D5 E5"
   ]
  },
  {
   "cell_type": "code",
   "execution_count": null,
   "id": "f31f01bd",
   "metadata": {},
   "outputs": [],
   "source": [
    "5 mins"
   ]
  },
  {
   "cell_type": "code",
   "execution_count": 9,
   "id": "575ec915",
   "metadata": {},
   "outputs": [
    {
     "name": "stdout",
     "output_type": "stream",
     "text": [
      "11 12 13 14 15 \n",
      "21 22 23 24 25 \n",
      "31 32 33 34 35 \n",
      "41 42 43 44 45 \n",
      "51 52 53 54 55 \n"
     ]
    }
   ],
   "source": [
    "for row in range(1,6):\n",
    "    for col in range(1,6):\n",
    "        print(str(row)+str(col), end=\" \")\n",
    "    print()"
   ]
  },
  {
   "cell_type": "code",
   "execution_count": 11,
   "id": "d06b7894",
   "metadata": {},
   "outputs": [
    {
     "name": "stdout",
     "output_type": "stream",
     "text": [
      "651 661 671 681 691 \n",
      "652 662 672 682 692 \n",
      "653 663 673 683 693 \n",
      "654 664 674 684 694 \n",
      "655 665 675 685 695 \n"
     ]
    }
   ],
   "source": [
    "for row in range(1,6):\n",
    "    for col in range(ord(\"A\"),ord(\"E\")+1):\n",
    "        print(str(col)+str(row), end=\" \")\n",
    "    print()"
   ]
  },
  {
   "cell_type": "code",
   "execution_count": 12,
   "id": "01517475",
   "metadata": {},
   "outputs": [
    {
     "name": "stdout",
     "output_type": "stream",
     "text": [
      "A1 B1 C1 D1 E1 \n",
      "A2 B2 C2 D2 E2 \n",
      "A3 B3 C3 D3 E3 \n",
      "A4 B4 C4 D4 E4 \n",
      "A5 B5 C5 D5 E5 \n"
     ]
    }
   ],
   "source": [
    "for row in range(1,6):\n",
    "    for col in range(ord(\"A\"),ord(\"E\")+1):\n",
    "        print(str(chr(col))+str(row), end=\" \")\n",
    "    print()"
   ]
  },
  {
   "cell_type": "code",
   "execution_count": 22,
   "id": "736f2e93",
   "metadata": {},
   "outputs": [
    {
     "name": "stdout",
     "output_type": "stream",
     "text": [
      "B  B  B  D1 E1 \n",
      "B  B  B  B  B  \n",
      "B  B3 B  D3 E3 \n",
      "A4 B4 C4 D4 E4 \n",
      "A5 B5 C5 D5 E5 \n"
     ]
    }
   ],
   "source": [
    "booked_seat = ['A1', 'B1', 'C1', 'A2', 'B2', 'C2', 'D2', 'E2', 'A3', 'C3']\n",
    "for row in range(1,6):\n",
    "    for col in range(ord(\"A\"),ord(\"E\")+1):\n",
    "        if str(chr(col))+str(row) in booked_seat:\n",
    "            print(\"B \", end=\" \")\n",
    "        else:\n",
    "            print(str(chr(col))+str(row), end=\" \")\n",
    "    print()"
   ]
  },
  {
   "cell_type": "code",
   "execution_count": 16,
   "id": "86104cd0",
   "metadata": {},
   "outputs": [],
   "source": [
    "t = (1,5)\n",
    "y = [6,9]\n",
    "y.extend(t)"
   ]
  },
  {
   "cell_type": "code",
   "execution_count": 17,
   "id": "a1fbdc74",
   "metadata": {},
   "outputs": [
    {
     "name": "stdout",
     "output_type": "stream",
     "text": [
      "[6, 9, 1, 5]\n"
     ]
    }
   ],
   "source": [
    "print(y)"
   ]
  },
  {
   "cell_type": "code",
   "execution_count": 18,
   "id": "5add6f90",
   "metadata": {},
   "outputs": [],
   "source": [
    "booked_seat = [\"D1\", \"E1\", \"B3\"]\n",
    "seats=[]\n",
    "for row in range(1,6):\n",
    "    for col in range(ord(\"A\"), ord(\"E\")+1):\n",
    "        if chr(col)+str(row) not in booked_seat:\n",
    "            seats.append(chr(col)+str(row))"
   ]
  },
  {
   "cell_type": "code",
   "execution_count": 19,
   "id": "20ac20ce",
   "metadata": {},
   "outputs": [
    {
     "name": "stdout",
     "output_type": "stream",
     "text": [
      "['A1', 'B1', 'C1', 'A2', 'B2', 'C2', 'D2', 'E2', 'A3', 'C3', 'D3', 'E3', 'A4', 'B4', 'C4', 'D4', 'E4', 'A5', 'B5', 'C5', 'D5', 'E5']\n"
     ]
    }
   ],
   "source": [
    "print(seats)"
   ]
  },
  {
   "cell_type": "code",
   "execution_count": 21,
   "id": "28a66cf8",
   "metadata": {},
   "outputs": [
    {
     "data": {
      "text/plain": [
       "['A1', 'B1', 'C1', 'A2', 'B2', 'C2', 'D2', 'E2', 'A3', 'C3']"
      ]
     },
     "execution_count": 21,
     "metadata": {},
     "output_type": "execute_result"
    }
   ],
   "source": [
    "seats[:10]"
   ]
  },
  {
   "cell_type": "code",
   "execution_count": null,
   "id": "d849d418",
   "metadata": {},
   "outputs": [],
   "source": []
  }
 ],
 "metadata": {
  "kernelspec": {
   "display_name": "Python 3 (ipykernel)",
   "language": "python",
   "name": "python3"
  },
  "language_info": {
   "codemirror_mode": {
    "name": "ipython",
    "version": 3
   },
   "file_extension": ".py",
   "mimetype": "text/x-python",
   "name": "python",
   "nbconvert_exporter": "python",
   "pygments_lexer": "ipython3",
   "version": "3.11.3"
  }
 },
 "nbformat": 4,
 "nbformat_minor": 5
}
