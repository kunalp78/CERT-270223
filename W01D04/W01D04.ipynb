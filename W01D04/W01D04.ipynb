{
 "cells": [
  {
   "cell_type": "code",
   "execution_count": 1,
   "id": "e9037fd9",
   "metadata": {},
   "outputs": [],
   "source": [
    "def f(*t):\n",
    "    for i in t:\n",
    "        print(i)"
   ]
  },
  {
   "cell_type": "code",
   "execution_count": 2,
   "id": "2e46f5a3",
   "metadata": {},
   "outputs": [
    {
     "name": "stdout",
     "output_type": "stream",
     "text": [
      "1\n",
      "5\n",
      "6\n"
     ]
    }
   ],
   "source": [
    "f(1,5,6)"
   ]
  },
  {
   "cell_type": "code",
   "execution_count": 3,
   "id": "7269dc93",
   "metadata": {},
   "outputs": [
    {
     "name": "stdout",
     "output_type": "stream",
     "text": [
      "1\n",
      "9\n",
      "7\n"
     ]
    }
   ],
   "source": [
    "l = [1,9,7]\n",
    "f(*l)"
   ]
  },
  {
   "cell_type": "code",
   "execution_count": null,
   "id": "d3ac25f9",
   "metadata": {},
   "outputs": [],
   "source": [
    "coding round -------\n",
    "1) submit *        |\n",
    "2) video call      |\n",
    "                   |\n",
    "        --------------------------\n",
    "        |                        |\n",
    "    written coding question    MCQ\n",
    "    3                           50\n",
    "            completion\n",
    "               | \n",
    "            project"
   ]
  }
 ],
 "metadata": {
  "kernelspec": {
   "display_name": "Python 3 (ipykernel)",
   "language": "python",
   "name": "python3"
  },
  "language_info": {
   "codemirror_mode": {
    "name": "ipython",
    "version": 3
   },
   "file_extension": ".py",
   "mimetype": "text/x-python",
   "name": "python",
   "nbconvert_exporter": "python",
   "pygments_lexer": "ipython3",
   "version": "3.11.3"
  }
 },
 "nbformat": 4,
 "nbformat_minor": 5
}
