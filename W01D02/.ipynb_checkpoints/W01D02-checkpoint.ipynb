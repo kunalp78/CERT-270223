{
 "cells": [
  {
   "cell_type": "code",
   "execution_count": 3,
   "id": "e4228e93",
   "metadata": {},
   "outputs": [],
   "source": [
    "import json\n",
    "from json import JSONDecodeError\n",
    "import time\n",
    "import re\n",
    "\n",
    "def write_diary(diary_json):\n",
    "    t=time.asctime().split()\n",
    "    t.pop(3)\n",
    "    print(t)\n",
    "    key = \"Tue-May-3-2023\"#\"-\".join(t)\n",
    "    cli = input(\"[>]\")\n",
    "    f=open(diary_json, \"r+\")\n",
    "    try:\n",
    "        content=json.load(f)\n",
    "    except JSONDecodeError:\n",
    "        content=[]\n",
    "    count = 0\n",
    "    while 1:\n",
    "        if re.search(\"^exit$\", cli):\n",
    "            print(\"Saving the data!!\")\n",
    "            f.seek(0)\n",
    "            f.truncate()\n",
    "            json.dump(content, f)\n",
    "            f.close()\n",
    "            break\n",
    "        else:\n",
    "            if len(content)==0:\n",
    "                d = { key: []}\n",
    "                d[key].append(cli)\n",
    "                content.append(d)\n",
    "            for i in range(len(content)):\n",
    "                if key in content[i].keys():\n",
    "                    count+=1\n",
    "                    content[i][key].append(cli)\n",
    "                    print(content)\n",
    "                    break\n",
    "            if count == 0:\n",
    "                d= {\n",
    "                    key: []\n",
    "                }\n",
    "                d[key].append(cli)\n",
    "                content.append(d)\n",
    "                print(content)\n",
    "\n",
    "        cli=input(\"[>]\")\n",
    "\n",
    "def read_diary(diary_json, date):\n",
    "    f=open(diary_json, \"r+\")\n",
    "    content=json.load(f)\n",
    "    diary_list = []\n",
    "    for i in range(len(content)):\n",
    "        if date in content[i].keys():\n",
    "            diary_list=content[i][date]\n",
    "            f.close()\n",
    "            break\n",
    "    if diary_list:\n",
    "        for i in diary_list:\n",
    "            print(i)\n",
    "    else:\n",
    "        print(\"the date is invalid\")"
   ]
  },
  {
   "cell_type": "code",
   "execution_count": 5,
   "id": "74b9df49",
   "metadata": {},
   "outputs": [
    {
     "name": "stdout",
     "output_type": "stream",
     "text": [
      "hey this the first time I am writing\n",
      "hey this the first time I am writing\n",
      "today i went to office\n",
      "I forgot to bring my id card\n",
      "I was forced to go back home\n"
     ]
    }
   ],
   "source": [
    "read_diary(\"diary.json\",\"Tue-May-2-2023\")"
   ]
  },
  {
   "cell_type": "code",
   "execution_count": 6,
   "id": "dee5711b",
   "metadata": {},
   "outputs": [
    {
     "name": "stdout",
     "output_type": "stream",
     "text": [
      "the date is invalid\n"
     ]
    }
   ],
   "source": [
    "read_diary(\"diary.json\",\"Tue-May-4-2023\")"
   ]
  },
  {
   "cell_type": "code",
   "execution_count": 10,
   "id": "a81e81ad",
   "metadata": {},
   "outputs": [
    {
     "name": "stdout",
     "output_type": "stream",
     "text": [
      "Menu: \n",
      "1) Write a diary\n",
      "2) Read the Diary\n",
      "3) Exit!!\n",
      "Enter you choice between [1-3]: 2\n",
      "Enter the date in foll fromat: Tue-May-D-YYYY: Tue-May-2-2023\n",
      "hey this the first time I am writing\n",
      "hey this the first time I am writing\n",
      "today i went to office\n",
      "I forgot to bring my id card\n",
      "I was forced to go back home\n",
      "Menu: \n",
      "1) Write a diary\n",
      "2) Read the Diary\n",
      "3) Exit!!\n",
      "Enter you choice between [1-3]: 1\n",
      "['Wed', 'May', '3', '2023']\n",
      "[>]Hey today is the third day I am writing!\n",
      "[{'Tue-May-2-2023': ['hey this the first time I am writing', 'hey this the first time I am writing', 'today i went to office', 'I forgot to bring my id card', 'I was forced to go back home']}, {'Tue-May-3-2023': ['hey', 'hi', 'Hey today is the third day I am writing!']}]\n",
      "[>]now we are becoming pro in coding!\n",
      "[{'Tue-May-2-2023': ['hey this the first time I am writing', 'hey this the first time I am writing', 'today i went to office', 'I forgot to bring my id card', 'I was forced to go back home']}, {'Tue-May-3-2023': ['hey', 'hi', 'Hey today is the third day I am writing!', 'now we are becoming pro in coding!']}]\n",
      "[>]exit\n",
      "Saving the data!!\n",
      "Menu: \n",
      "1) Write a diary\n",
      "2) Read the Diary\n",
      "3) Exit!!\n",
      "Enter you choice between [1-3]: exit\n",
      "Hey you entered incorrect response!!\n",
      "Menu: \n",
      "1) Write a diary\n",
      "2) Read the Diary\n",
      "3) Exit!!\n",
      "Enter you choice between [1-3]: 3\n",
      "Exiting!!\n"
     ]
    }
   ],
   "source": [
    "while 1:\n",
    "    print(\"Menu: \")\n",
    "    print(\"1) Write a diary\")\n",
    "    print(\"2) Read the Diary\")\n",
    "    print(\"3) Exit!!\")\n",
    "    i = input(\"Enter you choice between [1-3]: \")\n",
    "    if i == \"3\":\n",
    "        print(\"Exiting!!\")\n",
    "        break\n",
    "    elif i == \"1\":\n",
    "        write_diary(\"diary.json\")\n",
    "    elif i == \"2\":\n",
    "        date = input(\"Enter the date in foll fromat: Tue-May-D-YYYY: \")\n",
    "        read_diary(\"diary.json\", date)\n",
    "    else:\n",
    "        print(\"Hey you entered incorrect response!!\")"
   ]
  },
  {
   "cell_type": "code",
   "execution_count": null,
   "id": "3956b48f",
   "metadata": {},
   "outputs": [],
   "source": []
  }
 ],
 "metadata": {
  "kernelspec": {
   "display_name": "Python 3 (ipykernel)",
   "language": "python",
   "name": "python3"
  },
  "language_info": {
   "codemirror_mode": {
    "name": "ipython",
    "version": 3
   },
   "file_extension": ".py",
   "mimetype": "text/x-python",
   "name": "python",
   "nbconvert_exporter": "python",
   "pygments_lexer": "ipython3",
   "version": "3.11.3"
  }
 },
 "nbformat": 4,
 "nbformat_minor": 5
}
