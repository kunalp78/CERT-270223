{
 "cells": [
  {
   "cell_type": "code",
   "execution_count": 3,
   "id": "ffb0fa42",
   "metadata": {},
   "outputs": [],
   "source": [
    "import json\n",
    "from json import JSONDecodeError\n",
    "import time\n",
    "import re\n",
    "\n",
    "def write_diary(diary_json):\n",
    "    t=time.asctime().split()\n",
    "    t.pop(3)\n",
    "    print(t)\n",
    "    key = \"Tue-May-3-2023\"#\"-\".join(t)\n",
    "    cli = input(\"[>]\")\n",
    "    f=open(diary_json, \"r+\")\n",
    "    try:\n",
    "        content=json.load(f)\n",
    "    except JSONDecodeError:\n",
    "        content=[]\n",
    "    count = 0\n",
    "    while 1:\n",
    "        if re.search(\"^exit$\", cli):\n",
    "            print(\"Saving the data!!\")\n",
    "            f.seek(0)\n",
    "            f.truncate()\n",
    "            json.dump(content, f)\n",
    "            f.close()\n",
    "            break\n",
    "        else:\n",
    "            if len(content)==0:\n",
    "                d = { key: []}\n",
    "                d[key].append(cli)\n",
    "                content.append(d)\n",
    "            for i in range(len(content)):\n",
    "                if key in content[i].keys():\n",
    "                    count+=1\n",
    "                    content[i][key].append(cli)\n",
    "                    print(content)\n",
    "                    break\n",
    "            if count == 0:\n",
    "                d= {\n",
    "                    key: []\n",
    "                }\n",
    "                d[key].append(cli)\n",
    "                content.append(d)\n",
    "                print(content)\n",
    "\n",
    "        cli=input(\"[>]\")\n",
    "\n",
    "def read_diary(diary_json, date):\n",
    "    f=open(diary_json, \"r+\")\n",
    "    content=json.load(f)\n",
    "    diary_list = []\n",
    "    for i in range(len(content)):\n",
    "        if date in content[i].keys():\n",
    "            diary_list=content[i][date]\n",
    "            f.close()\n",
    "            break\n",
    "    if diary_list:\n",
    "        for i in diary_list:\n",
    "            print(i)\n",
    "    else:\n",
    "        print(\"the date is invalid\")"
   ]
  },
  {
   "cell_type": "code",
   "execution_count": 5,
   "id": "4fac4a2e",
   "metadata": {},
   "outputs": [
    {
     "name": "stdout",
     "output_type": "stream",
     "text": [
      "hey this the first time I am writing\n",
      "hey this the first time I am writing\n",
      "today i went to office\n",
      "I forgot to bring my id card\n",
      "I was forced to go back home\n"
     ]
    }
   ],
   "source": [
    "read_diary(\"diary.json\",\"Tue-May-2-2023\")"
   ]
  },
  {
   "cell_type": "code",
   "execution_count": 6,
   "id": "cce25c27",
   "metadata": {},
   "outputs": [
    {
     "name": "stdout",
     "output_type": "stream",
     "text": [
      "the date is invalid\n"
     ]
    }
   ],
   "source": [
    "read_diary(\"diary.json\",\"Tue-May-4-2023\")"
   ]
  },
  {
   "cell_type": "code",
   "execution_count": 10,
   "id": "3c4fb804",
   "metadata": {},
   "outputs": [
    {
     "name": "stdout",
     "output_type": "stream",
     "text": [
      "Menu: \n",
      "1) Write a diary\n",
      "2) Read the Diary\n",
      "3) Exit!!\n",
      "Enter you choice between [1-3]: 2\n",
      "Enter the date in foll fromat: Tue-May-D-YYYY: Tue-May-2-2023\n",
      "hey this the first time I am writing\n",
      "hey this the first time I am writing\n",
      "today i went to office\n",
      "I forgot to bring my id card\n",
      "I was forced to go back home\n",
      "Menu: \n",
      "1) Write a diary\n",
      "2) Read the Diary\n",
      "3) Exit!!\n",
      "Enter you choice between [1-3]: 1\n",
      "['Wed', 'May', '3', '2023']\n",
      "[>]Hey today is the third day I am writing!\n",
      "[{'Tue-May-2-2023': ['hey this the first time I am writing', 'hey this the first time I am writing', 'today i went to office', 'I forgot to bring my id card', 'I was forced to go back home']}, {'Tue-May-3-2023': ['hey', 'hi', 'Hey today is the third day I am writing!']}]\n",
      "[>]now we are becoming pro in coding!\n",
      "[{'Tue-May-2-2023': ['hey this the first time I am writing', 'hey this the first time I am writing', 'today i went to office', 'I forgot to bring my id card', 'I was forced to go back home']}, {'Tue-May-3-2023': ['hey', 'hi', 'Hey today is the third day I am writing!', 'now we are becoming pro in coding!']}]\n",
      "[>]exit\n",
      "Saving the data!!\n",
      "Menu: \n",
      "1) Write a diary\n",
      "2) Read the Diary\n",
      "3) Exit!!\n",
      "Enter you choice between [1-3]: exit\n",
      "Hey you entered incorrect response!!\n",
      "Menu: \n",
      "1) Write a diary\n",
      "2) Read the Diary\n",
      "3) Exit!!\n",
      "Enter you choice between [1-3]: 3\n",
      "Exiting!!\n"
     ]
    }
   ],
   "source": [
    "while 1:\n",
    "    print(\"Menu: \")\n",
    "    print(\"1) Write a diary\")\n",
    "    print(\"2) Read the Diary\")\n",
    "    print(\"3) Exit!!\")\n",
    "    i = input(\"Enter you choice between [1-3]: \")\n",
    "    if i == \"3\":\n",
    "        print(\"Exiting!!\")\n",
    "        break\n",
    "    elif i == \"1\":\n",
    "        write_diary(\"diary.json\")\n",
    "    elif i == \"2\":\n",
    "        date = input(\"Enter the date in foll fromat: Tue-May-D-YYYY: \")\n",
    "        read_diary(\"diary.json\", date)\n",
    "    else:\n",
    "        print(\"Hey you entered incorrect response!!\")"
   ]
  },
  {
   "cell_type": "code",
   "execution_count": null,
   "id": "58f3810a",
   "metadata": {},
   "outputs": [],
   "source": []
  },
  {
   "cell_type": "code",
   "execution_count": null,
   "id": "c24618bc",
   "metadata": {},
   "outputs": [],
   "source": [
    "# Agenda:\n",
    "# make a movie booking system which registers a user enables them to login, an option to add the movie, \n",
    "# an option to book a ticket, show the ticket history, show all the movies, show movie details.\n",
    "\n",
    "\"\"\"\n",
    "only one screen, tickets are free, number of seats are constant for each movie(25)\n",
    "\"\"\""
   ]
  },
  {
   "cell_type": "code",
   "execution_count": null,
   "id": "b9a11c16",
   "metadata": {},
   "outputs": [],
   "source": []
  },
  {
   "cell_type": "code",
   "execution_count": null,
   "id": "875dd96a",
   "metadata": {},
   "outputs": [],
   "source": []
  },
  {
   "cell_type": "code",
   "execution_count": 11,
   "id": "cf031cbe",
   "metadata": {},
   "outputs": [],
   "source": [
    "l = [{\"name\":\"Anjaeya\"},{\"name\":\"Rudo\"},{\"name\":\"Nagma\"}]"
   ]
  },
  {
   "cell_type": "code",
   "execution_count": 12,
   "id": "c227d967",
   "metadata": {},
   "outputs": [
    {
     "data": {
      "text/plain": [
       "True"
      ]
     },
     "execution_count": 12,
     "metadata": {},
     "output_type": "execute_result"
    }
   ],
   "source": [
    "d = {\"name\":\"Anjaeya\"}\n",
    "d in l"
   ]
  },
  {
   "cell_type": "code",
   "execution_count": 13,
   "id": "160b24a9",
   "metadata": {},
   "outputs": [
    {
     "data": {
      "text/plain": [
       "False"
      ]
     },
     "execution_count": 13,
     "metadata": {},
     "output_type": "execute_result"
    }
   ],
   "source": [
    "d = {\"name\":\"Kunal\"}\n",
    "d in l"
   ]
  },
  {
   "cell_type": "code",
   "execution_count": 14,
   "id": "889cfd45",
   "metadata": {},
   "outputs": [],
   "source": [
    "import json\n",
    "from json import JSONDecodeError\n",
    "\n",
    "def register(user_json, user_id, name, password, email, phone):\n",
    "    \"\"\"\n",
    "    register function returns True if the registration was successful\n",
    "                      returns False if the registration was unsucessful\n",
    "\n",
    "    Args:\n",
    "        user_json (string): the json file passed to the register function\n",
    "        user_id (string): a random id generated for each user\n",
    "        name (string): the identity of individual\n",
    "        password (string): password\n",
    "        email (string): it should be unique for each user\n",
    "        phone (string)\n",
    "    \"\"\"\n",
    "    d = {\n",
    "        \"user_id\": user_id,\n",
    "        \"name\": name,\n",
    "        \"password\": password,\n",
    "        \"email\": email,\n",
    "        \"phone\": phone,\n",
    "        \"booked history\": []\n",
    "    }\n",
    "    f=open(user_json, \"r+\")\n",
    "    try:\n",
    "        content=json.load(f) \n",
    "        if d not in content:\n",
    "            content.append(d)\n",
    "            f.seek(0)\n",
    "            f.truncate()\n",
    "            json.dump(content, f)\n",
    "            f.close()\n",
    "            return True\n",
    "    except JSONDecodeError:\n",
    "        l=[]\n",
    "        l.append(d)\n",
    "        json.dump(l, f)\n",
    "        f.close()\n",
    "        return True\n",
    "    f.close()\n",
    "    return False"
   ]
  },
  {
   "cell_type": "code",
   "execution_count": 15,
   "id": "6f341a92",
   "metadata": {},
   "outputs": [
    {
     "data": {
      "text/plain": [
       "True"
      ]
     },
     "execution_count": 15,
     "metadata": {},
     "output_type": "execute_result"
    }
   ],
   "source": [
    "register(\"user.json\", \"N5A9\", \"Nagma\", \"password\", \"nagma@gmail.com\", \"99999999999\")"
   ]
  },
  {
   "cell_type": "code",
   "execution_count": 17,
   "id": "863e06d7",
   "metadata": {},
   "outputs": [
    {
     "data": {
      "text/plain": [
       "True"
      ]
     },
     "execution_count": 17,
     "metadata": {},
     "output_type": "execute_result"
    }
   ],
   "source": [
    "register(\"user.json\", \"A9J0\", \"Anjaneya\", \"password\", \"anjaney@gmail.com\", \"998888888\")"
   ]
  },
  {
   "cell_type": "code",
   "execution_count": 18,
   "id": "f4444a25",
   "metadata": {},
   "outputs": [],
   "source": [
    "import random\n",
    "import string"
   ]
  },
  {
   "cell_type": "code",
   "execution_count": 20,
   "id": "a656fad7",
   "metadata": {},
   "outputs": [
    {
     "data": {
      "text/plain": [
       "'YFXG'"
      ]
     },
     "execution_count": 20,
     "metadata": {},
     "output_type": "execute_result"
    }
   ],
   "source": [
    "\"\".join(random.choices(string.ascii_uppercase+string.digits, k=4))"
   ]
  },
  {
   "cell_type": "code",
   "execution_count": null,
   "id": "d72ea4e8",
   "metadata": {},
   "outputs": [],
   "source": []
  }
 ],
 "metadata": {
  "kernelspec": {
   "display_name": "Python 3 (ipykernel)",
   "language": "python",
   "name": "python3"
  },
  "language_info": {
   "codemirror_mode": {
    "name": "ipython",
    "version": 3
   },
   "file_extension": ".py",
   "mimetype": "text/x-python",
   "name": "python",
   "nbconvert_exporter": "python",
   "pygments_lexer": "ipython3",
   "version": "3.11.3"
  }
 },
 "nbformat": 4,
 "nbformat_minor": 5
}
